{
 "cells": [
  {
   "cell_type": "code",
   "execution_count": 1,
   "metadata": {},
   "outputs": [
    {
     "name": "stdout",
     "output_type": "stream",
     "text": [
      "Requirement already satisfied: DBcm in c:\\users\\joshua\\appdata\\local\\packages\\pythonsoftwarefoundation.python.3.11_qbz5n2kfra8p0\\localcache\\local-packages\\python311\\site-packages (2.1)\n",
      "Requirement already satisfied: mysql-connector-python in c:\\users\\joshua\\appdata\\local\\packages\\pythonsoftwarefoundation.python.3.11_qbz5n2kfra8p0\\localcache\\local-packages\\python311\\site-packages (from DBcm) (8.2.0)\n",
      "Requirement already satisfied: protobuf<=4.21.12,>=4.21.1 in c:\\users\\joshua\\appdata\\local\\packages\\pythonsoftwarefoundation.python.3.11_qbz5n2kfra8p0\\localcache\\local-packages\\python311\\site-packages (from mysql-connector-python->DBcm) (4.21.12)\n",
      "Note: you may need to restart the kernel to use updated packages.\n"
     ]
    },
    {
     "name": "stderr",
     "output_type": "stream",
     "text": [
      "\n",
      "[notice] A new release of pip is available: 23.2.1 -> 23.3.1\n",
      "[notice] To update, run: C:\\Users\\Joshua\\AppData\\Local\\Microsoft\\WindowsApps\\PythonSoftwareFoundation.Python.3.11_qbz5n2kfra8p0\\python.exe -m pip install --upgrade pip\n"
     ]
    }
   ],
   "source": [
    "%pip install --upgrade DBcm"
   ]
  },
  {
   "cell_type": "code",
   "execution_count": 2,
   "metadata": {},
   "outputs": [],
   "source": [
    "import DBcm\n",
    "import random"
   ]
  },
  {
   "cell_type": "code",
   "execution_count": 3,
   "metadata": {},
   "outputs": [],
   "source": [
    "creds = {\n",
    "    'host': 'localhost',\n",
    "    'database': 'BlackJackDB',\n",
    "    'user': 'josh',\n",
    "    'password': 'password'\n",
    "}"
   ]
  },
  {
   "cell_type": "code",
   "execution_count": 4,
   "metadata": {},
   "outputs": [],
   "source": [
    "def random_gamer():    \n",
    "    with DBcm.UseDatabase(creds) as db:\n",
    "        SQL = \"\"\"\n",
    "        select gamertag from players\n",
    "        \"\"\"\n",
    "        db.execute(SQL)\n",
    "        tags = db.fetchall()\n",
    "        tags = [row[0] for row in tags] \n",
    "        who = random.choice(tags)\n",
    "    return who"
   ]
  },
  {
   "cell_type": "code",
   "execution_count": 21,
   "metadata": {},
   "outputs": [],
   "source": [
    "def update_games_database(gamertag, outcome, isTwentyOne):\n",
    "    \"\"\" updates the game data\"\"\"\n",
    "    SQL = \"\"\"\n",
    "        insert into games\n",
    "        (gamertag, outcome,21s)\n",
    "        values\n",
    "        (%s,%s,%s)      \n",
    "        \"\"\"\n",
    "\n",
    "\n",
    "    with DBcm.UseDatabase(creds) as db:\n",
    "        db.execute(SQL, (gamertag, outcome, isTwentyOne))\n",
    "\n",
    "        SQL = \"\"\"select * from games\"\"\"\n",
    "        db.execute(SQL)\n",
    "        results = db.fetchall()"
   ]
  },
  {
   "cell_type": "code",
   "execution_count": 155,
   "metadata": {},
   "outputs": [],
   "source": [
    "\n",
    "def generate_game_data():\n",
    "    \"\"\" populates database\"\"\"\n",
    "    for _ in range(50):\n",
    "        gamer = random_gamer()\n",
    "        outcome = random.choice([\"Win\", \"Loss\"])\n",
    "\n",
    "        if(outcome == \"Win\"):\n",
    "        \n",
    "            twentyOne = random.choice([\"yes\", \"no\", \"no\"]) # just to make it less likely they wil get 21\n",
    "        else:\n",
    "            twentyOne = \"no\"\n",
    "        \n",
    "      \n",
    "        update_games_database(gamer, outcome, twentyOne)\n",
    "    ## print(results[-3:])"
   ]
  },
  {
   "cell_type": "code",
   "execution_count": 8,
   "metadata": {},
   "outputs": [],
   "source": [
    "generate_game_data()"
   ]
  },
  {
   "cell_type": "code",
   "execution_count": 60,
   "metadata": {},
   "outputs": [
    {
     "name": "stdout",
     "output_type": "stream",
     "text": [
      "FrogGranna\n",
      "Wins: 2\n",
      "Losses 3\n",
      "Wins percentage: 0.4\n"
     ]
    }
   ],
   "source": [
    "gamer = random_gamer()\n",
    "\n",
    "with DBcm.UseDatabase(creds) as db: \n",
    "    SQL = \"\"\"\n",
    "    select count(*) from games \n",
    "    where gamertag = %s and outcome = \"Win\"\n",
    "    \"\"\"\n",
    "    db.execute(SQL,(gamer,))\n",
    "    results = db.fetchone()\n",
    "    wins = results[0]\n",
    "\n",
    "    SQL = \"\"\"\n",
    "    select count(*) from games \n",
    "    where gamertag = %s and outcome = \"Loss\"\n",
    "    \"\"\"\n",
    "    db.execute(SQL,(gamer,))\n",
    "    results = db.fetchone()\n",
    "    losses = results[0]\n",
    "\n",
    "    print(gamer)\n",
    "    print(\"Wins:\", wins)\n",
    "\n",
    "    print(\"Losses\", losses)\n",
    "\n",
    "    print (\"Wins percentage:\", wins/(wins + losses) )"
   ]
  },
  {
   "cell_type": "code",
   "execution_count": 70,
   "metadata": {},
   "outputs": [
    {
     "name": "stdout",
     "output_type": "stream",
     "text": [
      "xxx_CDawg_xxx\n",
      "Wins: 4\n",
      "Losses 3\n",
      "Wins percentage: 57.14285714285714\n"
     ]
    }
   ],
   "source": [
    "gamer = random_gamer()\n",
    "\n",
    "with DBcm.UseDatabase(creds) as db: \n",
    "    SQL = \"\"\"\n",
    "    select count(*) from games \n",
    "    where gamertag = %s and outcome = \"Win\"\n",
    "    \"\"\"\n",
    "    db.execute(SQL,(gamer,))\n",
    "    results = db.fetchone()\n",
    "    wins = results[0]\n",
    "\n",
    "    SQL = \"\"\"\n",
    "    select count(*) from games \n",
    "    where gamertag = %s and outcome = \"Loss\"\n",
    "    \"\"\"\n",
    "    db.execute(SQL,(gamer,))\n",
    "    results = db.fetchone()\n",
    "    losses = results[0]\n",
    "\n",
    "    winRate = (wins/(wins + losses)) * 100\n",
    "    print(gamer)\n",
    "    print(\"Wins:\", wins)\n",
    "\n",
    "    print(\"Losses\", losses)\n",
    "\n",
    "    print (\"Wins percentage:\",winRate )\n",
    "\n",
    "\n",
    "    testHighStreak = 1; \n",
    "    test21 = 0\n",
    "    SQL = \"\"\"\n",
    "        insert into gamestats\n",
    "        (gamertag, winrate, HighestWinStreak, 21s)\n",
    "        values\n",
    "        (%s,%s, %s, %s)      \n",
    "        \"\"\"\n",
    "    db.execute(SQL,(gamer,winRate,testHighStreak, test21))\n",
    "   \n"
   ]
  },
  {
   "cell_type": "code",
   "execution_count": 71,
   "metadata": {},
   "outputs": [],
   "source": [
    "def get_winrate(player):\n",
    "    \"gets a players win rate\"\n",
    "    with DBcm.UseDatabase(creds) as db: \n",
    "        SQL = \"\"\"\n",
    "        select count(*) from games \n",
    "        where gamertag = %s and outcome = \"Win\"\n",
    "        \"\"\"\n",
    "        db.execute(SQL,(player,))\n",
    "        results = db.fetchone()\n",
    "        wins = results[0]\n",
    "\n",
    "        SQL = \"\"\"\n",
    "        select count(*) from games \n",
    "        where gamertag = %s and outcome = \"Loss\"\n",
    "        \"\"\"\n",
    "        db.execute(SQL,(player,))\n",
    "        results = db.fetchone()\n",
    "        losses = results[0]\n",
    "\n",
    "        winRate = (wins/(wins + losses)) * 100\n",
    "\n",
    "        return winRate"
   ]
  },
  {
   "cell_type": "code",
   "execution_count": null,
   "metadata": {},
   "outputs": [],
   "source": [
    "gamer = random_gamer()\n",
    "\n",
    "with DBcm.UseDatabase(creds) as db: \n",
    "    \n",
    "\n",
    "    winRate = get_winrate(gamer)\n",
    "    print(gamer)\n",
    "    print(\"Wins:\", wins)\n",
    "\n",
    "    print(\"Losses\", losses)\n",
    "\n",
    "    print (\"Wins percentage:\",winRate )\n",
    "\n",
    "\n",
    "    testHighStreak = 1; \n",
    "    test21 = 0\n",
    "    SQL = \"\"\"\n",
    "        insert into gamestats\n",
    "        (gamertag, winrate, HighestWinStreak, 21s)\n",
    "        values\n",
    "        (%s,%s, %s, %s)      \n",
    "        \"\"\"\n",
    "    db.execute(SQL,(gamer,winRate,testHighStreak, test21))"
   ]
  },
  {
   "cell_type": "code",
   "execution_count": 128,
   "metadata": {},
   "outputs": [
    {
     "name": "stdout",
     "output_type": "stream",
     "text": [
      "[('Loss',), ('Win',), ('Win',), ('Win',), ('Win',)]\n",
      "1\n",
      "2\n",
      "3\n",
      "4\n",
      "4\n"
     ]
    }
   ],
   "source": [
    "with DBcm.UseDatabase(creds) as db: \n",
    "        SQL = \"\"\"select outcome from games where gamertag = %s \"\"\"\n",
    "        db.execute(SQL,(\"JDawg\",))\n",
    "        results = db.fetchall()\n",
    "        print(results)\n",
    "        highestWinStreak = 0; \n",
    "        winStreak =0; \n",
    "        \n",
    "        for result in results:\n",
    "            if \"Loss\" in result:\n",
    "                if(highestWinStreak < winStreak):\n",
    "                     highestWinStreak = winStreak\n",
    "                winStreak = 0\n",
    "            elif \"Win\" in result:\n",
    "                winStreak +=1\n",
    "                print(winStreak)\n",
    "        highestWinStreak = winStreak\n",
    "        print(highestWinStreak)"
   ]
  },
  {
   "cell_type": "code",
   "execution_count": 175,
   "metadata": {},
   "outputs": [],
   "source": [
    "def get_highest_win_streak(player):\n",
    "    \"\"\"gets a players highest win streak\"\"\"\n",
    "    with DBcm.UseDatabase(creds) as db: \n",
    "\n",
    "        SQL = \"\"\"select HighestWinStreak from gamestats where gamertag = %s\"\"\"\n",
    "        db.execute(SQL,(player, ))\n",
    "        currentHighScore = db.fetchone()\n",
    "        \n",
    "\n",
    "        SQL = \"\"\"select outcome from games where gamertag = %s \"\"\"\n",
    "        db.execute(SQL,(player,))\n",
    "        results = db.fetchall()\n",
    "        \n",
    "        highestWinStreak = 0; \n",
    "        winStreak =0; \n",
    "        \n",
    "        for result in results:\n",
    "            if \"Loss\" in result:\n",
    "                if(highestWinStreak < winStreak):\n",
    "                     highestWinStreak = winStreak\n",
    "                winStreak = 0\n",
    "            else:\n",
    "                winStreak +=1\n",
    "            \n",
    "        if( winStreak != 0):\n",
    "            if( winStreak > highestWinStreak):\n",
    "                highestWinStreak = winStreak\n",
    "\n",
    "\n",
    "    return highestWinStreak"
   ]
  },
  {
   "cell_type": "code",
   "execution_count": 176,
   "metadata": {},
   "outputs": [
    {
     "name": "stdout",
     "output_type": "stream",
     "text": [
      "4\n"
     ]
    }
   ],
   "source": [
    "print(get_highest_win_streak(\"JDawg\"))"
   ]
  },
  {
   "cell_type": "code",
   "execution_count": 131,
   "metadata": {},
   "outputs": [
    {
     "name": "stdout",
     "output_type": "stream",
     "text": [
      "4\n"
     ]
    }
   ],
   "source": [
    "streak = get_highest_win_streak(\"JDawg\")\n",
    "print(streak)"
   ]
  },
  {
   "cell_type": "code",
   "execution_count": 132,
   "metadata": {},
   "outputs": [
    {
     "name": "stdout",
     "output_type": "stream",
     "text": [
      "JDawg\n",
      "4\n"
     ]
    }
   ],
   "source": [
    "gamer = \"JDawg\"\n",
    "\n",
    "with DBcm.UseDatabase(creds) as db: \n",
    "    \n",
    "    print(gamer)\n",
    "    winRate = get_winrate(gamer)\n",
    "    HighestStreak = get_highest_win_streak(gamer)\n",
    "    print(HighestStreak)\n",
    "    test21 = 0\n",
    "    SQL = \"\"\"\n",
    "        insert into gamestats\n",
    "        (gamertag, winrate, HighestWinStreak, 21s)\n",
    "        values\n",
    "        (%s,%s, %s, %s)      \n",
    "        \"\"\"\n",
    "    db.execute(SQL,(gamer,winRate,HighestStreak, test21))"
   ]
  },
  {
   "cell_type": "code",
   "execution_count": 137,
   "metadata": {},
   "outputs": [],
   "source": [
    "def get_21s(player):\n",
    "    \"\"\"gets a player number of 21s from table\"\"\"\n",
    "    with DBcm.UseDatabase(creds) as db: \n",
    "        SQL = \"\"\"select 21s from games where gamertag = %s \"\"\"\n",
    "        db.execute(SQL,(player,))\n",
    "        results = db.fetchall()\n",
    "        twentyOnesResults = 0\n",
    "        for result in results:\n",
    "            if \"yes\" in result:\n",
    "                twentyOnesResults+=1\n",
    "    return twentyOnesResults\n"
   ]
  },
  {
   "cell_type": "code",
   "execution_count": 138,
   "metadata": {},
   "outputs": [
    {
     "name": "stdout",
     "output_type": "stream",
     "text": [
      "1\n"
     ]
    }
   ],
   "source": [
    "test = get_21s(\"JDawg\")\n",
    "print(test)"
   ]
  },
  {
   "cell_type": "code",
   "execution_count": 139,
   "metadata": {},
   "outputs": [
    {
     "name": "stdout",
     "output_type": "stream",
     "text": [
      "The Legend 27\n",
      "2\n"
     ]
    }
   ],
   "source": [
    "gamer = random_gamer()\n",
    "\n",
    "with DBcm.UseDatabase(creds) as db: \n",
    "    \n",
    "    print(gamer)\n",
    "    winRate = get_winrate(gamer)\n",
    "    HighestStreak = get_highest_win_streak(gamer)\n",
    "    print(HighestStreak)\n",
    "    test21 = get_21s(gamer)\n",
    "    SQL = \"\"\"\n",
    "        insert into gamestats\n",
    "        (gamertag, winrate, HighestWinStreak, 21s)\n",
    "        values\n",
    "        (%s,%s, %s, %s)      \n",
    "        \"\"\"\n",
    "    db.execute(SQL,(gamer,winRate,HighestStreak, test21))"
   ]
  },
  {
   "cell_type": "code",
   "execution_count": 140,
   "metadata": {},
   "outputs": [],
   "source": [
    "def generate_gamestats():\n",
    "\n",
    "    for _ in range(12):\n",
    "        gamer = random_gamer()\n",
    "        with DBcm.UseDatabase(creds) as db: \n",
    "\n",
    "            winRate = get_winrate(gamer)\n",
    "            HighestStreak = get_highest_win_streak(gamer)\n",
    "            test21 = get_21s(gamer)\n",
    "            SQL = \"\"\"\n",
    "                insert into gamestats\n",
    "                (gamertag, winrate, HighestWinStreak, 21s)\n",
    "                values\n",
    "                (%s,%s, %s, %s)      \n",
    "                \"\"\"\n",
    "            db.execute(SQL,(gamer,winRate,HighestStreak, test21))\n",
    "    "
   ]
  },
  {
   "cell_type": "code",
   "execution_count": 141,
   "metadata": {},
   "outputs": [],
   "source": [
    "generate_gamestats()"
   ]
  },
  {
   "cell_type": "code",
   "execution_count": 142,
   "metadata": {},
   "outputs": [],
   "source": [
    "def update_gameStats(winrate, high_streak, twenty_ones, gamertag):\n",
    "    \"\"\"updates the stats table \"\"\"\n",
    "    with DBcm.UseDatabase(creds) as db: \n",
    "            SQL = \"\"\"\n",
    "\n",
    "                update gamestats \n",
    "                set winrate = %s, HighestWinStreak = %s, 21s =%s \n",
    "                where gamertag =%s\n",
    "                \"\"\"\n",
    "            db.execute(SQL,(winrate,high_streak,twenty_ones, gamertag))"
   ]
  },
  {
   "cell_type": "code",
   "execution_count": 144,
   "metadata": {},
   "outputs": [],
   "source": [
    "update_gameStats(1, 1, 1, \"JDawg\")"
   ]
  },
  {
   "cell_type": "code",
   "execution_count": 152,
   "metadata": {},
   "outputs": [],
   "source": [
    "def get_player_names():\n",
    "    \"\"\"gets a list of players names\"\"\"\n",
    "    with DBcm.UseDatabase(creds) as db:\n",
    "        SQL = \"\"\"\n",
    "        select gamertag from players\n",
    "        \"\"\"\n",
    "        db.execute(SQL)\n",
    "        tags = db.fetchall()\n",
    "        tags = [row[0] for row in tags] \n",
    "    return tags"
   ]
  },
  {
   "cell_type": "code",
   "execution_count": 146,
   "metadata": {},
   "outputs": [],
   "source": [
    "def initialise_gamestats():\n",
    "    \"\"\"initial set up of the game stats with data gotten from the games table\"\"\"\n",
    "    players = get_player_names()\n",
    "\n",
    "    for player in players:\n",
    "        with DBcm.UseDatabase(creds) as db: \n",
    "\n",
    "            winRate = get_winrate(player)\n",
    "            HighestStreak = get_highest_win_streak(player)\n",
    "            test21 = get_21s(player)\n",
    "            SQL = \"\"\"\n",
    "                insert into gamestats\n",
    "                (gamertag, winrate, HighestWinStreak, 21s)\n",
    "                values\n",
    "                (%s,%s, %s, %s)      \n",
    "                \"\"\"\n",
    "            db.execute(SQL,(player,winRate,HighestStreak, test21))"
   ]
  },
  {
   "cell_type": "code",
   "execution_count": 153,
   "metadata": {},
   "outputs": [
    {
     "name": "stdout",
     "output_type": "stream",
     "text": [
      "['JDawg', 'idk', 'alwyn', 'FrogGranna', 'PDawg', 'frodo', 'The Legend 27', 'xxx_CDawg_xxx', 'Xx_TTV_MadJack69_xX', 'Ruark', 'kio', 'MIA']\n"
     ]
    }
   ],
   "source": [
    "print(get_player_names())"
   ]
  },
  {
   "cell_type": "code",
   "execution_count": 154,
   "metadata": {},
   "outputs": [],
   "source": [
    "initialise_gamestats()"
   ]
  },
  {
   "cell_type": "code",
   "execution_count": null,
   "metadata": {},
   "outputs": [],
   "source": [
    "generate_game_data()\n",
    "players = get_player_names()\n",
    "\n",
    "for player in players:\n",
    "\n",
    "    update_gameStats(get_winrate(player), get_highest_win_streak(player), get_21s(player), player)"
   ]
  },
  {
   "cell_type": "code",
   "execution_count": 177,
   "metadata": {},
   "outputs": [],
   "source": [
    "players = get_player_names()\n",
    "\n",
    "for player in players:\n",
    "\n",
    "    update_gameStats(get_winrate(player), get_highest_win_streak(player), get_21s(player), player)"
   ]
  },
  {
   "cell_type": "code",
   "execution_count": null,
   "metadata": {},
   "outputs": [],
   "source": []
  }
 ],
 "metadata": {
  "kernelspec": {
   "display_name": "Python 3",
   "language": "python",
   "name": "python3"
  },
  "language_info": {
   "codemirror_mode": {
    "name": "ipython",
    "version": 3
   },
   "file_extension": ".py",
   "mimetype": "text/x-python",
   "name": "python",
   "nbconvert_exporter": "python",
   "pygments_lexer": "ipython3",
   "version": "3.11.6"
  }
 },
 "nbformat": 4,
 "nbformat_minor": 2
}
