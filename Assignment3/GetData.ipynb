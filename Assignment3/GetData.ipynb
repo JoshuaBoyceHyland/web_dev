{
 "cells": [
  {
   "cell_type": "code",
   "execution_count": 6,
   "metadata": {},
   "outputs": [
    {
     "name": "stdout",
     "output_type": "stream",
     "text": [
      "Requirement already satisfied: DBcm in c:\\users\\joshua\\appdata\\local\\packages\\pythonsoftwarefoundation.python.3.11_qbz5n2kfra8p0\\localcache\\local-packages\\python311\\site-packages (2.1)\n",
      "Requirement already satisfied: mysql-connector-python in c:\\users\\joshua\\appdata\\local\\packages\\pythonsoftwarefoundation.python.3.11_qbz5n2kfra8p0\\localcache\\local-packages\\python311\\site-packages (from DBcm) (8.2.0)\n",
      "Requirement already satisfied: protobuf<=4.21.12,>=4.21.1 in c:\\users\\joshua\\appdata\\local\\packages\\pythonsoftwarefoundation.python.3.11_qbz5n2kfra8p0\\localcache\\local-packages\\python311\\site-packages (from mysql-connector-python->DBcm) (4.21.12)\n",
      "Note: you may need to restart the kernel to use updated packages.\n"
     ]
    },
    {
     "name": "stderr",
     "output_type": "stream",
     "text": [
      "\n",
      "[notice] A new release of pip is available: 23.2.1 -> 23.3.1\n",
      "[notice] To update, run: C:\\Users\\Joshua\\AppData\\Local\\Microsoft\\WindowsApps\\PythonSoftwareFoundation.Python.3.11_qbz5n2kfra8p0\\python.exe -m pip install --upgrade pip\n"
     ]
    }
   ],
   "source": [
    "%pip install --upgrade DBcm"
   ]
  },
  {
   "cell_type": "code",
   "execution_count": 13,
   "metadata": {},
   "outputs": [],
   "source": [
    "import DBcm\n",
    "import random"
   ]
  },
  {
   "cell_type": "code",
   "execution_count": 14,
   "metadata": {},
   "outputs": [],
   "source": [
    "creds = {\n",
    "    'host': 'localhost',\n",
    "    'database': 'BlackJackDB',\n",
    "    'user': 'josh',\n",
    "    'password': 'password'\n",
    "}"
   ]
  },
  {
   "cell_type": "code",
   "execution_count": 15,
   "metadata": {},
   "outputs": [],
   "source": [
    "def random_gamer():    \n",
    "    with DBcm.UseDatabase(creds) as db:\n",
    "        SQL = \"\"\"\n",
    "        select gamertag from players\n",
    "        \"\"\"\n",
    "        db.execute(SQL)\n",
    "        tags = db.fetchall()\n",
    "        tags = [row[0] for row in tags] \n",
    "        who = random.choice(tags)\n",
    "    return who"
   ]
  },
  {
   "cell_type": "code",
   "execution_count": 16,
   "metadata": {},
   "outputs": [],
   "source": [
    "def update_games_database(gamertag, outcome, isTwentyOne):\n",
    "    \"\"\" updates the game data\"\"\"\n",
    "    SQL = \"\"\"\n",
    "        insert into games\n",
    "        (gamertag, outcome,21s)\n",
    "        values\n",
    "        (%s,%s,%s)      \n",
    "        \"\"\"\n",
    "\n",
    "\n",
    "    with DBcm.UseDatabase(creds) as db:\n",
    "        db.execute(SQL, (gamertag, outcome, isTwentyOne))\n",
    "\n",
    "        SQL = \"\"\"select * from games\"\"\"\n",
    "        db.execute(SQL)\n",
    "        results = db.fetchall()"
   ]
  },
  {
   "cell_type": "code",
   "execution_count": 25,
   "metadata": {},
   "outputs": [],
   "source": [
    "\n",
    "def generate_game_data():\n",
    "    \"\"\" populates database\"\"\"\n",
    "    for _ in range(50):\n",
    "        gamer = random_gamer()\n",
    "        outcome = random.choice([\"Win\", \"Loss\"])\n",
    "\n",
    "        if(outcome == \"Win\"):\n",
    "        \n",
    "            twentyOne = random.choice([\"yes\", \"no\", \"no\"]) # just to make it less likely they wil get 21\n",
    "        else:\n",
    "            twentyOne = \"no\"\n",
    "        \n",
    "        SQL = \"\"\"\n",
    "        insert into games\n",
    "        (gamertag, outcome,21s)\n",
    "        values\n",
    "        (%s,%s,%s)      \n",
    "        \"\"\"\n",
    "\n",
    "\n",
    "        update_games_database(gamer, outcome, twentyOne)\n",
    "    ## print(results[-3:])"
   ]
  },
  {
   "cell_type": "code",
   "execution_count": 26,
   "metadata": {},
   "outputs": [],
   "source": [
    "generate_game_data()"
   ]
  },
  {
   "cell_type": "code",
   "execution_count": null,
   "metadata": {},
   "outputs": [],
   "source": []
  }
 ],
 "metadata": {
  "kernelspec": {
   "display_name": "Python 3",
   "language": "python",
   "name": "python3"
  },
  "language_info": {
   "codemirror_mode": {
    "name": "ipython",
    "version": 3
   },
   "file_extension": ".py",
   "mimetype": "text/x-python",
   "name": "python",
   "nbconvert_exporter": "python",
   "pygments_lexer": "ipython3",
   "version": "3.11.6"
  }
 },
 "nbformat": 4,
 "nbformat_minor": 2
}
