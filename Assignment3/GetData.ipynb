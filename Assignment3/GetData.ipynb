{
 "cells": [
  {
   "cell_type": "code",
   "execution_count": null,
   "metadata": {},
   "outputs": [],
   "source": [
    "%pip install --upgrade DBcm"
   ]
  },
  {
   "cell_type": "code",
   "execution_count": null,
   "metadata": {},
   "outputs": [],
   "source": [
    "\"\"\"following code is what i use to generate data, this  will code will be used to set up data for graphs and data base in the data visualisation\"\"\""
   ]
  },
  {
   "cell_type": "code",
   "execution_count": 178,
   "metadata": {},
   "outputs": [],
   "source": [
    "import DBcm\n",
    "import random"
   ]
  },
  {
   "cell_type": "code",
   "execution_count": 3,
   "metadata": {},
   "outputs": [],
   "source": [
    "creds = {\n",
    "    'host': 'localhost',\n",
    "    'database': 'BlackJackDB',\n",
    "    'user': 'josh',\n",
    "    'password': 'password'\n",
    "}"
   ]
  },
  {
   "cell_type": "code",
   "execution_count": 4,
   "metadata": {},
   "outputs": [],
   "source": [
    "def random_gamer():    \n",
    "    with DBcm.UseDatabase(creds) as db:\n",
    "        SQL = \"\"\"\n",
    "        select gamertag from players\n",
    "        \"\"\"\n",
    "        db.execute(SQL)\n",
    "        tags = db.fetchall()\n",
    "        tags = [row[0] for row in tags] \n",
    "        who = random.choice(tags)\n",
    "    return who"
   ]
  },
  {
   "cell_type": "code",
   "execution_count": 21,
   "metadata": {},
   "outputs": [],
   "source": [
    "def update_games_database(gamertag, outcome, isTwentyOne):\n",
    "    \"\"\" updates the game data\"\"\"\n",
    "    SQL = \"\"\"\n",
    "        insert into games\n",
    "        (gamertag, outcome,21s)\n",
    "        values\n",
    "        (%s,%s,%s)      \n",
    "        \"\"\"\n",
    "\n",
    "\n",
    "    with DBcm.UseDatabase(creds) as db:\n",
    "        db.execute(SQL, (gamertag, outcome, isTwentyOne))\n",
    "\n",
    "        SQL = \"\"\"select * from games\"\"\"\n",
    "        db.execute(SQL)\n",
    "        results = db.fetchall()"
   ]
  },
  {
   "cell_type": "code",
   "execution_count": 155,
   "metadata": {},
   "outputs": [],
   "source": [
    "\n",
    "def generate_game_data():\n",
    "    \"\"\" populates database\"\"\"\n",
    "    for _ in range(50):\n",
    "        gamer = random_gamer()\n",
    "        outcome = random.choice([\"Win\", \"Loss\"])\n",
    "\n",
    "        if(outcome == \"Win\"):\n",
    "        \n",
    "            twentyOne = random.choice([\"yes\", \"no\", \"no\"]) # just to make it less likely they wil get 21\n",
    "        else:\n",
    "            twentyOne = \"no\"\n",
    "        \n",
    "      \n",
    "        update_games_database(gamer, outcome, twentyOne)\n",
    "    ## print(results[-3:])"
   ]
  },
  {
   "cell_type": "code",
   "execution_count": 71,
   "metadata": {},
   "outputs": [],
   "source": [
    "def get_winrate(player):\n",
    "    \"gets a players win rate\"\n",
    "    with DBcm.UseDatabase(creds) as db: \n",
    "        SQL = \"\"\"\n",
    "        select count(*) from games \n",
    "        where gamertag = %s and outcome = \"Win\"\n",
    "        \"\"\"\n",
    "        db.execute(SQL,(player,))\n",
    "        results = db.fetchone()\n",
    "        wins = results[0]\n",
    "\n",
    "        SQL = \"\"\"\n",
    "        select count(*) from games \n",
    "        where gamertag = %s and outcome = \"Loss\"\n",
    "        \"\"\"\n",
    "        db.execute(SQL,(player,))\n",
    "        results = db.fetchone()\n",
    "        losses = results[0]\n",
    "\n",
    "        winRate = (wins/(wins + losses)) * 100\n",
    "\n",
    "        return winRate"
   ]
  },
  {
   "cell_type": "code",
   "execution_count": 175,
   "metadata": {},
   "outputs": [],
   "source": [
    "def get_highest_win_streak(player):\n",
    "    \"\"\"gets a players highest win streak\"\"\"\n",
    "    with DBcm.UseDatabase(creds) as db: \n",
    "\n",
    "        SQL = \"\"\"select HighestWinStreak from gamestats where gamertag = %s\"\"\"\n",
    "        db.execute(SQL,(player, ))\n",
    "        currentHighScore = db.fetchone()\n",
    "        \n",
    "\n",
    "        SQL = \"\"\"select outcome from games where gamertag = %s \"\"\"\n",
    "        db.execute(SQL,(player,))\n",
    "        results = db.fetchall()\n",
    "        \n",
    "        highestWinStreak = 0; \n",
    "        winStreak =0; \n",
    "        \n",
    "        for result in results:\n",
    "            if \"Loss\" in result:\n",
    "                if(highestWinStreak < winStreak):\n",
    "                     highestWinStreak = winStreak\n",
    "                winStreak = 0\n",
    "            else:\n",
    "                winStreak +=1\n",
    "            \n",
    "        if( winStreak != 0):\n",
    "            if( winStreak > highestWinStreak):\n",
    "                highestWinStreak = winStreak\n",
    "\n",
    "\n",
    "    return highestWinStreak"
   ]
  },
  {
   "cell_type": "code",
   "execution_count": 137,
   "metadata": {},
   "outputs": [],
   "source": [
    "def get_21s(player):\n",
    "    \"\"\"gets a player number of 21s from table\"\"\"\n",
    "    with DBcm.UseDatabase(creds) as db: \n",
    "        SQL = \"\"\"select 21s from games where gamertag = %s \"\"\"\n",
    "        db.execute(SQL,(player,))\n",
    "        results = db.fetchall()\n",
    "        twentyOnesResults = 0\n",
    "        for result in results:\n",
    "            if \"yes\" in result:\n",
    "                twentyOnesResults+=1\n",
    "    return twentyOnesResults\n"
   ]
  },
  {
   "cell_type": "code",
   "execution_count": 197,
   "metadata": {},
   "outputs": [],
   "source": [
    "def update_gameStats(winrate, high_streak, twenty_ones, gamertag):\n",
    "    \"\"\"updates the stats table if there is a gamer tag exist and inserts if none \"\"\"\n",
    "    with DBcm.UseDatabase(creds) as db: \n",
    "            ## check if user exist first \n",
    "            SQL = \"\"\"select gamertag from gamestats where gamertag = %s \"\"\"\n",
    "            db.execute(SQL,(gamertag,))\n",
    "            result = db.fetchone()\n",
    "            print(result)\n",
    "            if result is None:\n",
    "                SQL = \"\"\" \n",
    "                    insert into gamestats\n",
    "                    (gamertag, winrate, HighestWinStreak, 21s)\n",
    "                    values\n",
    "                    (%s,%s, %s, %s)      \n",
    "                    \"\"\"\n",
    "                db.execute(SQL,(gamertag,winrate,high_streak,twenty_ones))\n",
    "            else:\n",
    "                SQL = \"\"\"\n",
    "                update gamestats \n",
    "                set winrate = %s, HighestWinStreak = %s, 21s =%s \n",
    "                where gamertag =%s\n",
    "                \"\"\"\n",
    "                db.execute(SQL,(winrate,high_streak,twenty_ones, gamertag))\n",
    "                  \n",
    "\n",
    "        \n",
    "            "
   ]
  },
  {
   "cell_type": "code",
   "execution_count": 192,
   "metadata": {},
   "outputs": [
    {
     "name": "stdout",
     "output_type": "stream",
     "text": [
      "None\n",
      "work\n"
     ]
    }
   ],
   "source": [
    "with DBcm.UseDatabase(creds) as db:\n",
    "    SQL = \"\"\"select gamertag from gamestats where gamertag = \"JDawg\" \"\"\"\n",
    "    db.execute(SQL)\n",
    "    result = db.fetchone()\n",
    "    print(result)\n",
    "    if result == None:\n",
    "        print(\"work\")"
   ]
  },
  {
   "cell_type": "code",
   "execution_count": 152,
   "metadata": {},
   "outputs": [],
   "source": [
    "def get_player_names():\n",
    "    \"\"\"gets a list of players names\"\"\"\n",
    "    with DBcm.UseDatabase(creds) as db:\n",
    "        SQL = \"\"\"\n",
    "        select gamertag from players\n",
    "        \"\"\"\n",
    "        db.execute(SQL)\n",
    "        tags = db.fetchall()\n",
    "        tags = [row[0] for row in tags] \n",
    "    return tags"
   ]
  },
  {
   "cell_type": "code",
   "execution_count": 180,
   "metadata": {},
   "outputs": [],
   "source": [
    "generate_game_data()\n",
    "players = get_player_names()\n",
    "for player in players:\n",
    "\n",
    "    update_gameStats(get_winrate(player), get_highest_win_streak(player), get_21s(player), player)"
   ]
  }
 ],
 "metadata": {
  "kernelspec": {
   "display_name": "Python 3",
   "language": "python",
   "name": "python3"
  },
  "language_info": {
   "codemirror_mode": {
    "name": "ipython",
    "version": 3
   },
   "file_extension": ".py",
   "mimetype": "text/x-python",
   "name": "python",
   "nbconvert_exporter": "python",
   "pygments_lexer": "ipython3",
   "version": "3.11.7"
  }
 },
 "nbformat": 4,
 "nbformat_minor": 2
}
