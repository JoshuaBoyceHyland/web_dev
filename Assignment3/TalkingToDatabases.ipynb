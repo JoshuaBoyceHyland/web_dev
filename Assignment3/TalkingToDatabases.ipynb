{
 "cells": [
  {
   "cell_type": "code",
   "execution_count": 5,
   "metadata": {},
   "outputs": [
    {
     "name": "stdout",
     "output_type": "stream",
     "text": [
      "Requirement already satisfied: DBcm in c:\\users\\joshua\\appdata\\local\\packages\\pythonsoftwarefoundation.python.3.11_qbz5n2kfra8p0\\localcache\\local-packages\\python311\\site-packages (2.1)\n",
      "Requirement already satisfied: mysql-connector-python in c:\\users\\joshua\\appdata\\local\\packages\\pythonsoftwarefoundation.python.3.11_qbz5n2kfra8p0\\localcache\\local-packages\\python311\\site-packages (from DBcm) (8.2.0)\n",
      "Requirement already satisfied: protobuf<=4.21.12,>=4.21.1 in c:\\users\\joshua\\appdata\\local\\packages\\pythonsoftwarefoundation.python.3.11_qbz5n2kfra8p0\\localcache\\local-packages\\python311\\site-packages (from mysql-connector-python->DBcm) (4.21.12)\n",
      "Note: you may need to restart the kernel to use updated packages.\n"
     ]
    },
    {
     "name": "stderr",
     "output_type": "stream",
     "text": [
      "\n",
      "[notice] A new release of pip is available: 23.2.1 -> 23.3.1\n",
      "[notice] To update, run: C:\\Users\\Joshua\\AppData\\Local\\Microsoft\\WindowsApps\\PythonSoftwareFoundation.Python.3.11_qbz5n2kfra8p0\\python.exe -m pip install --upgrade pip\n"
     ]
    }
   ],
   "source": [
    "%pip install --upgrade DBcm"
   ]
  },
  {
   "cell_type": "code",
   "execution_count": 6,
   "metadata": {},
   "outputs": [],
   "source": [
    "import DBcm"
   ]
  },
  {
   "cell_type": "code",
   "execution_count": 7,
   "metadata": {},
   "outputs": [
    {
     "name": "stdout",
     "output_type": "stream",
     "text": [
      "['ConnectionError', 'CredentialsError', 'SQLError', 'UseDatabase', '__builtins__', '__cached__', '__doc__', '__file__', '__loader__', '__name__', '__package__', '__spec__', 'mysql', 'sqlite3']\n"
     ]
    }
   ],
   "source": [
    "print(dir(DBcm))"
   ]
  },
  {
   "cell_type": "code",
   "execution_count": 9,
   "metadata": {},
   "outputs": [],
   "source": [
    "creds = {\n",
    "    'host': 'localhost',\n",
    "    'database': 'BlackJackDB',\n",
    "    'user': 'josh',\n",
    "    'password': 'sheaba'\n",
    "}"
   ]
  },
  {
   "cell_type": "code",
   "execution_count": 10,
   "metadata": {},
   "outputs": [
    {
     "data": {
      "text/plain": [
       "{'host': 'localhost',\n",
       " 'database': 'BlackJackDB',\n",
       " 'user': 'josh',\n",
       " 'password': 'sheaba'}"
      ]
     },
     "execution_count": 10,
     "metadata": {},
     "output_type": "execute_result"
    }
   ],
   "source": [
    "creds"
   ]
  },
  {
   "cell_type": "code",
   "execution_count": 15,
   "metadata": {},
   "outputs": [],
   "source": [
    "with open(\"players.sql\") as f: # file context manager, auto closed file also\n",
    "    data = f.readlines()"
   ]
  },
  {
   "cell_type": "code",
   "execution_count": 16,
   "metadata": {},
   "outputs": [
    {
     "data": {
      "text/plain": [
       "['insert into players (name, gamertag, email) values (\"Josh\", \"JDawg\", \"c00270917@setu.ie\");\\n',\n",
       " 'insert into players (name, gamertag, email) values (\"Shane\", \"idk\", \"c00270031@setu.ie\");\\n',\n",
       " 'insert into players (name, gamertag, email) values (\"Alwyn\", \"alwyn\", \"c00271145@setu.ie\");\\n',\n",
       " 'insert into players (name, gamertag, email) values (\"Darragh\", \"FrogGranna\", \"c00271651@setu.ie\");\\n',\n",
       " 'insert into players (name, gamertag, email) values (\"Pavol\", \"PDawg\", \"c00272003@setu.ie\");\\n',\n",
       " 'insert into players (name, gamertag, email) values (\"Daniel\", \"frodo\", \"c00272187@setu.ie\");\\n',\n",
       " 'insert into players (name, gamertag, email) values (\"Richie\", \"The Legend 27\", \"c00272345@setu.ie\");\\n',\n",
       " 'insert into players (name, gamertag, email) values (\"Conor\", \"xxx_CDawg_xxx\", \"c00272506@setu.ie\");\\n',\n",
       " 'insert into players (name, gamertag, email) values (\"Jack\", \"Xx_TTV_MadJack69_xX\", \"c00273123@setu.ie\");\\n',\n",
       " 'insert into players (name, gamertag, email) values (\"Ruslan\", \"Ruark\", \"c00273521@setu.ie\");\\n',\n",
       " 'insert into players (name, gamertag, email) values (\"Killian\", \"kio\", \"c00275417@setu.ie\");\\n',\n",
       " 'insert into players (name, gamertag, email) values (\"Adrian\", \"MIA\", \"c0027xxxxx@setu.ie\");\\n']"
      ]
     },
     "execution_count": 16,
     "metadata": {},
     "output_type": "execute_result"
    }
   ],
   "source": [
    "data"
   ]
  },
  {
   "cell_type": "code",
   "execution_count": 23,
   "metadata": {},
   "outputs": [],
   "source": [
    "with DBcm.UseDatabase(creds) as db: # database contex manager, db is contection to \n",
    "    SQL = \"select * from games\"\n",
    "    db.execute(SQL) # send sql comman dthrough server to run\n",
    "    results = db.fetchall() # get results\n",
    "    # automaitcally closes connection to database"
   ]
  },
  {
   "cell_type": "code",
   "execution_count": 24,
   "metadata": {},
   "outputs": [
    {
     "data": {
      "text/plain": [
       "[('JDawg', 'Win'),\n",
       " ('JDawg', 'Loss'),\n",
       " ('JDawg', 'Loss'),\n",
       " ('JDawg', 'Loss'),\n",
       " ('JDawg', 'Win')]"
      ]
     },
     "execution_count": 24,
     "metadata": {},
     "output_type": "execute_result"
    }
   ],
   "source": [
    "results"
   ]
  },
  {
   "cell_type": "code",
   "execution_count": 25,
   "metadata": {},
   "outputs": [],
   "source": [
    "with DBcm.UseDatabase(creds) as db:  \n",
    "    SQL = \"select * from players\"\n",
    "    db.execute(SQL)\n",
    "    results = db.fetchall()\n"
   ]
  },
  {
   "cell_type": "code",
   "execution_count": 26,
   "metadata": {},
   "outputs": [
    {
     "data": {
      "text/plain": [
       "[('Josh', 'Josher', 'josh@gmail.com'),\n",
       " ('Josh', 'JDawg', 'c00270917@setu.ie'),\n",
       " ('Shane', 'idk', 'c00270031@setu.ie'),\n",
       " ('Alwyn', 'alwyn', 'c00271145@setu.ie'),\n",
       " ('Darragh', 'FrogGranna', 'c00271651@setu.ie'),\n",
       " ('Pavol', 'PDawg', 'c00272003@setu.ie'),\n",
       " ('Daniel', 'frodo', 'c00272187@setu.ie'),\n",
       " ('Richie', 'The Legend 27', 'c00272345@setu.ie'),\n",
       " ('Conor', 'xxx_CDawg_xxx', 'c00272506@setu.ie'),\n",
       " ('Jack', 'Xx_TTV_MadJack69_xX', 'c00273123@setu.ie'),\n",
       " ('Ruslan', 'Ruark', 'c00273521@setu.ie'),\n",
       " ('Killian', 'kio', 'c00275417@setu.ie'),\n",
       " ('Adrian', 'MIA', 'c0027xxxxx@setu.ie')]"
      ]
     },
     "execution_count": 26,
     "metadata": {},
     "output_type": "execute_result"
    }
   ],
   "source": [
    "results"
   ]
  },
  {
   "cell_type": "code",
   "execution_count": 27,
   "metadata": {},
   "outputs": [],
   "source": [
    "with DBcm.UseDatabase(creds) as db:  \n",
    "    SQL = \"describe players\"\n",
    "    db.execute(SQL)\n",
    "    results = db.fetchall()"
   ]
  },
  {
   "cell_type": "code",
   "execution_count": 28,
   "metadata": {},
   "outputs": [
    {
     "data": {
      "text/plain": [
       "[('name', 'varchar(32)', 'NO', '', None, ''),\n",
       " ('gamertag', 'varchar(32)', 'NO', '', None, ''),\n",
       " ('email', 'varchar(32)', 'NO', '', None, '')]"
      ]
     },
     "execution_count": 28,
     "metadata": {},
     "output_type": "execute_result"
    }
   ],
   "source": [
    "results"
   ]
  },
  {
   "cell_type": "code",
   "execution_count": 29,
   "metadata": {},
   "outputs": [
    {
     "data": {
      "text/plain": [
       "list"
      ]
     },
     "execution_count": 29,
     "metadata": {},
     "output_type": "execute_result"
    }
   ],
   "source": [
    "type(results)"
   ]
  },
  {
   "cell_type": "code",
   "execution_count": 30,
   "metadata": {},
   "outputs": [
    {
     "data": {
      "text/plain": [
       "tuple"
      ]
     },
     "execution_count": 30,
     "metadata": {},
     "output_type": "execute_result"
    }
   ],
   "source": [
    "type(results[0])"
   ]
  },
  {
   "cell_type": "code",
   "execution_count": 31,
   "metadata": {},
   "outputs": [
    {
     "data": {
      "text/plain": [
       "'name'"
      ]
     },
     "execution_count": 31,
     "metadata": {},
     "output_type": "execute_result"
    }
   ],
   "source": [
    "results[0][0]"
   ]
  },
  {
   "cell_type": "code",
   "execution_count": 35,
   "metadata": {},
   "outputs": [],
   "source": [
    "with DBcm.UseDatabase(creds) as db:  \n",
    "    SQL = \"\"\"\n",
    "    select count(*) from games \n",
    "    where gamertag = \"JDawg\" and outcome = \"Win\"\n",
    "    \"\"\"\n",
    "    db.execute(SQL)\n",
    "    results = db.fetchone()"
   ]
  },
  {
   "cell_type": "code",
   "execution_count": 38,
   "metadata": {},
   "outputs": [
    {
     "data": {
      "text/plain": [
       "2"
      ]
     },
     "execution_count": 38,
     "metadata": {},
     "output_type": "execute_result"
    }
   ],
   "source": [
    "results[0]"
   ]
  },
  {
   "cell_type": "code",
   "execution_count": 47,
   "metadata": {},
   "outputs": [
    {
     "name": "stdout",
     "output_type": "stream",
     "text": [
      "Wins: 4\n",
      "Losses 5\n",
      "Wins percentage: 0.4444444444444444\n"
     ]
    }
   ],
   "source": [
    "with DBcm.UseDatabase(creds) as db:  \n",
    "    SQL = \"\"\"\n",
    "    select count(*) from games \n",
    "    where gamertag = \"JDawg\" and outcome = \"Win\"\n",
    "    \"\"\"\n",
    "    db.execute(SQL)\n",
    "    results = db.fetchone()\n",
    "    wins = results[0]\n",
    "\n",
    "\n",
    "    SQL = \"\"\"\n",
    "    select count(*) from games \n",
    "    where gamertag = \"JDawg\" and outcome = \"Loss\"\n",
    "    \"\"\"\n",
    "    db.execute(SQL)\n",
    "    results = db.fetchone()\n",
    "    losses = results[0]\n",
    "\n",
    "    print(\"Wins:\", wins)\n",
    "\n",
    "    print(\"Losses\", losses)\n",
    "\n",
    "    print (\"Wins percentage:\", wins/(wins + losses) )\n",
    "\n",
    "\n",
    "\n",
    "\n",
    "\n"
   ]
  },
  {
   "cell_type": "code",
   "execution_count": 43,
   "metadata": {},
   "outputs": [],
   "source": [
    "import random"
   ]
  },
  {
   "cell_type": "code",
   "execution_count": 46,
   "metadata": {},
   "outputs": [],
   "source": [
    "\n",
    "SQL = \"\"\"\n",
    "    insert into games\n",
    "    (gamertag, outcome)\n",
    "    values\n",
    "    (\"JDawg\",\"Loss\" )\n",
    "\"\"\"\n",
    "with DBcm.UseDatabase(creds) as db:\n",
    "    db.execute(SQL)\n"
   ]
  },
  {
   "cell_type": "code",
   "execution_count": 50,
   "metadata": {},
   "outputs": [
    {
     "data": {
      "text/plain": [
       "'Loss'"
      ]
     },
     "execution_count": 50,
     "metadata": {},
     "output_type": "execute_result"
    }
   ],
   "source": [
    "outcome = random.choice((\"Win\", \"Loss\"))\n",
    "outcome"
   ]
  },
  {
   "cell_type": "code",
   "execution_count": 56,
   "metadata": {},
   "outputs": [],
   "source": [
    "with DBcm.UseDatabase(creds) as db:\n",
    "    SQL = \"\"\"\n",
    "    select gamertag from players\n",
    "    \"\"\"\n",
    "    db.execute(SQL)\n",
    "    tags = db.fetchall()"
   ]
  },
  {
   "cell_type": "code",
   "execution_count": 57,
   "metadata": {},
   "outputs": [
    {
     "data": {
      "text/plain": [
       "[('Josher',),\n",
       " ('JDawg',),\n",
       " ('idk',),\n",
       " ('alwyn',),\n",
       " ('FrogGranna',),\n",
       " ('PDawg',),\n",
       " ('frodo',),\n",
       " ('The Legend 27',),\n",
       " ('xxx_CDawg_xxx',),\n",
       " ('Xx_TTV_MadJack69_xX',),\n",
       " ('Ruark',),\n",
       " ('kio',),\n",
       " ('MIA',)]"
      ]
     },
     "execution_count": 57,
     "metadata": {},
     "output_type": "execute_result"
    }
   ],
   "source": [
    "tags"
   ]
  },
  {
   "cell_type": "code",
   "execution_count": 58,
   "metadata": {},
   "outputs": [
    {
     "name": "stdout",
     "output_type": "stream",
     "text": [
      "['Josher', 'JDawg', 'idk', 'alwyn', 'FrogGranna', 'PDawg', 'frodo', 'The Legend 27', 'xxx_CDawg_xxx', 'Xx_TTV_MadJack69_xX', 'Ruark', 'kio', 'MIA']\n"
     ]
    }
   ],
   "source": [
    "tags = [row[0] for row in tags] \n",
    "# every row get back a touple,\n",
    "#  tthen give me firt value in the touple and reuse tag variable\n",
    "print(tags)"
   ]
  },
  {
   "cell_type": "code",
   "execution_count": 63,
   "metadata": {},
   "outputs": [
    {
     "data": {
      "text/plain": [
       "'xxx_CDawg_xxx'"
      ]
     },
     "execution_count": 63,
     "metadata": {},
     "output_type": "execute_result"
    }
   ],
   "source": [
    "who = random.choice(tags)\n",
    "who"
   ]
  },
  {
   "cell_type": "code",
   "execution_count": 69,
   "metadata": {},
   "outputs": [],
   "source": [
    "def random_gamer():    \n",
    "    with DBcm.UseDatabase(creds) as db:\n",
    "        SQL = \"\"\"\n",
    "        select gamertag from players\n",
    "        \"\"\"\n",
    "        db.execute(SQL)\n",
    "        tags = db.fetchall()\n",
    "        tags = [row[0] for row in tags] \n",
    "        who = random.choice(tags)\n",
    "    return who\n"
   ]
  },
  {
   "cell_type": "code",
   "execution_count": 70,
   "metadata": {},
   "outputs": [
    {
     "data": {
      "text/plain": [
       "'JDawg'"
      ]
     },
     "execution_count": 70,
     "metadata": {},
     "output_type": "execute_result"
    }
   ],
   "source": [
    "random_gamer()"
   ]
  },
  {
   "cell_type": "markdown",
   "metadata": {},
   "source": []
  },
  {
   "cell_type": "code",
   "execution_count": 74,
   "metadata": {},
   "outputs": [
    {
     "data": {
      "text/plain": [
       "('idk', 'Win')"
      ]
     },
     "execution_count": 74,
     "metadata": {},
     "output_type": "execute_result"
    }
   ],
   "source": [
    "gamer = random_gamer()\n",
    "outcome = random.choice([\"Win\", \"Loss\"])\n",
    "gamer, outcome"
   ]
  },
  {
   "cell_type": "code",
   "execution_count": 83,
   "metadata": {},
   "outputs": [],
   "source": [
    "for _ in range(50):\n",
    "    SQL = \"\"\"\n",
    "    insert into games\n",
    "    (gamertag, outcome)\n",
    "    values\n",
    "    (%s,%s )      \n",
    "    \"\"\"\n",
    "\n",
    "    gamer = random_gamer()\n",
    "    outcome = random.choice([\"Win\", \"Loss\"])\n",
    "\n",
    "    with DBcm.UseDatabase(creds) as db:\n",
    "        db.execute(SQL, (gamer, outcome, ))\n",
    "\n",
    "        SQL = \"\"\"select * from games\"\"\"\n",
    "        db.execute(SQL)\n",
    "        results = db.fetchall()\n",
    "    ## print(results[-3:])\n"
   ]
  },
  {
   "cell_type": "code",
   "execution_count": 84,
   "metadata": {},
   "outputs": [
    {
     "data": {
      "text/plain": [
       "114"
      ]
     },
     "execution_count": 84,
     "metadata": {},
     "output_type": "execute_result"
    }
   ],
   "source": [
    "len(results)"
   ]
  },
  {
   "cell_type": "code",
   "execution_count": 87,
   "metadata": {},
   "outputs": [
    {
     "data": {
      "text/plain": [
       "[('JDawg', 'Win'),\n",
       " ('JDawg', 'Loss'),\n",
       " ('JDawg', 'Loss'),\n",
       " ('JDawg', 'Loss'),\n",
       " ('JDawg', 'Win'),\n",
       " ('JDawg', 'Win'),\n",
       " ('JDawg', 'Win'),\n",
       " ('JDawg', 'Loss'),\n",
       " ('JDawg', 'Loss'),\n",
       " ('idk', 'Win'),\n",
       " ('Josher', 'Win'),\n",
       " ('frodo', 'Win'),\n",
       " ('PDawg', 'Loss'),\n",
       " ('Xx_TTV_MadJack69_xX', 'Win'),\n",
       " ('FrogGranna', 'Win'),\n",
       " ('PDawg', 'Win'),\n",
       " ('PDawg', 'Loss'),\n",
       " ('frodo', 'Loss'),\n",
       " ('kio', 'Win'),\n",
       " ('The Legend 27', 'Win'),\n",
       " ('idk', 'Loss'),\n",
       " ('Xx_TTV_MadJack69_xX', 'Win'),\n",
       " ('The Legend 27', 'Loss'),\n",
       " ('kio', 'Loss'),\n",
       " ('Xx_TTV_MadJack69_xX', 'Win'),\n",
       " ('frodo', 'Loss'),\n",
       " ('Xx_TTV_MadJack69_xX', 'Loss'),\n",
       " ('Ruark', 'Loss'),\n",
       " ('xxx_CDawg_xxx', 'Loss'),\n",
       " ('The Legend 27', 'Loss'),\n",
       " ('Xx_TTV_MadJack69_xX', 'Loss'),\n",
       " ('The Legend 27', 'Win'),\n",
       " ('idk', 'Win'),\n",
       " ('idk', 'Loss'),\n",
       " ('PDawg', 'Win'),\n",
       " ('Xx_TTV_MadJack69_xX', 'Win'),\n",
       " ('Xx_TTV_MadJack69_xX', 'Win'),\n",
       " ('FrogGranna', 'Win'),\n",
       " ('The Legend 27', 'Win'),\n",
       " ('xxx_CDawg_xxx', 'Win'),\n",
       " ('frodo', 'Win'),\n",
       " ('frodo', 'Win'),\n",
       " ('JDawg', 'Win'),\n",
       " ('alwyn', 'Win'),\n",
       " ('PDawg', 'Loss'),\n",
       " ('alwyn', 'Loss'),\n",
       " ('MIA', 'Loss'),\n",
       " ('Ruark', 'Win'),\n",
       " ('Xx_TTV_MadJack69_xX', 'Loss'),\n",
       " ('The Legend 27', 'Win')]"
      ]
     },
     "execution_count": 87,
     "metadata": {},
     "output_type": "execute_result"
    }
   ],
   "source": [
    "results[:50]"
   ]
  },
  {
   "cell_type": "code",
   "execution_count": 89,
   "metadata": {},
   "outputs": [
    {
     "name": "stdout",
     "output_type": "stream",
     "text": [
      "13\n"
     ]
    }
   ],
   "source": [
    "with DBcm.UseDatabase(creds) as db:\n",
    "    SQL = \"\"\"select distinct gamertag from games\"\"\"\n",
    "    db.execute(SQL)\n",
    "    results = db.fetchall()\n",
    "    print(len(results))"
   ]
  },
  {
   "cell_type": "code",
   "execution_count": 91,
   "metadata": {},
   "outputs": [
    {
     "name": "stdout",
     "output_type": "stream",
     "text": [
      "Josher Wins percentage: 0.75\n",
      "------------------------------------------------------------\n",
      "JDawg Wins percentage: 0.4666666666666667\n",
      "------------------------------------------------------------\n",
      "idk Wins percentage: 0.75\n",
      "------------------------------------------------------------\n",
      "alwyn Wins percentage: 0.5\n",
      "------------------------------------------------------------\n",
      "FrogGranna Wins percentage: 0.75\n",
      "------------------------------------------------------------\n",
      "PDawg Wins percentage: 0.4\n",
      "------------------------------------------------------------\n",
      "frodo Wins percentage: 0.5\n",
      "------------------------------------------------------------\n",
      "The Legend 27 Wins percentage: 0.7272727272727273\n",
      "------------------------------------------------------------\n",
      "xxx_CDawg_xxx Wins percentage: 0.7\n",
      "------------------------------------------------------------\n",
      "Xx_TTV_MadJack69_xX Wins percentage: 0.6666666666666666\n",
      "------------------------------------------------------------\n",
      "Ruark Wins percentage: 0.3333333333333333\n",
      "------------------------------------------------------------\n",
      "kio Wins percentage: 0.2857142857142857\n",
      "------------------------------------------------------------\n",
      "MIA Wins percentage: 0.5\n",
      "------------------------------------------------------------\n"
     ]
    }
   ],
   "source": [
    "\n",
    "for tag in tags:\n",
    "\n",
    "\n",
    "    with DBcm.UseDatabase(creds) as db:  \n",
    "        SQL = \"\"\"\n",
    "        select count(*) from games \n",
    "        where gamertag = %s and outcome = \"Win\"\n",
    "        \"\"\"\n",
    "        db.execute(SQL, (tag, )) # touple\n",
    "        results = db.fetchone()\n",
    "        wins = results[0]\n",
    "\n",
    "\n",
    "        SQL = \"\"\"\n",
    "        select count(*) from games \n",
    "        where gamertag = %s and outcome = \"Loss\"\n",
    "        \"\"\"\n",
    "        db.execute(SQL, (tag, ))\n",
    "        results = db.fetchone()\n",
    "        losses = results[0]\n",
    "\n",
    "       # print(\"Wins:\", wins)\n",
    "\n",
    "       # print(\"Losses\", losses)\n",
    "\n",
    "        print (tag, \"Wins percentage:\", wins/(wins + losses) )\n",
    "        print(\"-\"*60)\n"
   ]
  },
  {
   "cell_type": "code",
   "execution_count": null,
   "metadata": {},
   "outputs": [],
   "source": []
  }
 ],
 "metadata": {
  "kernelspec": {
   "display_name": "Python 3",
   "language": "python",
   "name": "python3"
  },
  "language_info": {
   "codemirror_mode": {
    "name": "ipython",
    "version": 3
   },
   "file_extension": ".py",
   "mimetype": "text/x-python",
   "name": "python",
   "nbconvert_exporter": "python",
   "pygments_lexer": "ipython3",
   "version": "3.11.6"
  }
 },
 "nbformat": 4,
 "nbformat_minor": 2
}
